{
 "cells": [
  {
   "cell_type": "code",
   "execution_count": 28,
   "metadata": {},
   "outputs": [],
   "source": [
    "import os\n",
    "import numpy as np\n",
    "import pandas as pd\n",
    "from lxml import objectify\n",
    "from sklearn.model_selection import train_test_split\n",
    "import urllib"
   ]
  },
  {
   "cell_type": "code",
   "execution_count": 8,
   "metadata": {},
   "outputs": [],
   "source": [
    "seed = 1783"
   ]
  },
  {
   "cell_type": "code",
   "execution_count": 2,
   "metadata": {},
   "outputs": [],
   "source": [
    "def get_files(folder_path, ext=[], return_full_path=False):\n",
    "    _files = [f for f in os.listdir(folder_path) if os.path.isfile(os.path.join(folder_path, f)) and f[-3:] in ext]\n",
    "    if return_full_path:\n",
    "        _files = [os.path.join(folder_path, f) for f in _files]\n",
    "    return _files"
   ]
  },
  {
   "cell_type": "code",
   "execution_count": 3,
   "metadata": {},
   "outputs": [],
   "source": [
    "d1 = get_files(\"./BarcodeDatasets/Dataset1\", ext=[\"jpg\", \"JPG\"], return_full_path=False)\n",
    "d2 =  get_files(\"./BarcodeDatasets/Dataset2\", ext=[\"jpg\", \"JPG\"], return_full_path=False)\n",
    "labelled_images = get_files(\"./labelled\", ext=[\"jpg\", \"JPG\"], return_full_path=True)\n",
    "label_files = get_files(\"./labels\", ext=[\"xml\"], return_full_path=True)"
   ]
  },
  {
   "cell_type": "code",
   "execution_count": 37,
   "metadata": {},
   "outputs": [
    {
     "name": "stdout",
     "output_type": "stream",
     "text": [
      "05102009156.jpg\n",
      "Foto(811).jpg\n",
      "05102009146.jpg\n",
      "Foto(840).jpg\n",
      "Foto(790).jpg\n",
      "PICT0020.JPG\n",
      "Foto(765).jpg\n",
      "Foto(708).jpg\n",
      "Foto(477).jpg\n",
      "05102009125.jpg\n",
      "PIadwCT0019.JPG\n",
      "PIfghghfCT0009.JPG\n",
      "Foto(481).jpg\n",
      "PICT00hfghg10.JPG\n",
      "Foto(815).jpg\n",
      "Foto(546).jpg\n",
      "Foto(854).jpg\n",
      "05102009102.jpg\n",
      "06102009255.jpg\n",
      "Foto(730).jpg\n",
      "PICT0005.JPG\n",
      "05102009105.jpg\n",
      "Foto(848).jpg\n",
      "05102009215.jpg\n",
      "Foto(736).jpg\n",
      "05102009175.jpg\n",
      "Foto(686).jpg\n",
      "Foto(783).jpg\n",
      "Foto(687).jpg\n",
      "05102009211.jpg\n",
      "Foto(760).jpg\n",
      "Foto(536).jpg\n",
      "05102009199.jpg\n"
     ]
    }
   ],
   "source": [
    "annotations = {'image_name': [], 'x1': [], 'y1': [], 'x2': [], 'y2': [], 'class': [], 'dataset': []}\n",
    "for _label_file in label_files:\n",
    "\n",
    "    with open(_label_file, 'r') as file:\n",
    "        anno = objectify.parse(_label_file).getroot()\n",
    "        \n",
    "    file_name = anno[\"filename\"][0].text\n",
    "    print(file_name)\n",
    "    annotations['image_name'].append(os.path.join(\"./labelled\", file_name))\n",
    "    annotations['x1'].append(anno[\"object\"][0][\"bndbox\"][0][\"xmin\"][0])\n",
    "    annotations['y1'].append(anno[\"object\"][0][\"bndbox\"][0][\"ymin\"][0])\n",
    "    annotations['x2'].append(anno[\"object\"][0][\"bndbox\"][0][\"xmax\"][0])\n",
    "    annotations['y2'].append(anno[\"object\"][0][\"bndbox\"][0][\"ymax\"][0])\n",
    "    annotations['class'].append('barcode')\n",
    "    if file_name in d1:\n",
    "        if file_name in d2:\n",
    "            raise ValueError(\"Filename match not found in both datasets: \" + file_name)\n",
    "        else:\n",
    "            annotations['dataset'].append(1)\n",
    "    elif file_name in d2:\n",
    "        annotations['dataset'].append(2)\n",
    "    else:\n",
    "        raise ValueError(\"Filename match not found in either dataset: \" + file_name)"
   ]
  },
  {
   "cell_type": "code",
   "execution_count": 38,
   "metadata": {},
   "outputs": [
    {
     "name": "stdout",
     "output_type": "stream",
     "text": [
      "{'image_name': ['./labelled/05102009156.jpg', './labelled/Foto(811).jpg', './labelled/05102009146.jpg', './labelled/Foto(840).jpg', './labelled/Foto(790).jpg', './labelled/PICT0020.JPG', './labelled/Foto(765).jpg', './labelled/Foto(708).jpg', './labelled/Foto(477).jpg', './labelled/05102009125.jpg', './labelled/PIadwCT0019.JPG', './labelled/PIfghghfCT0009.JPG', './labelled/Foto(481).jpg', './labelled/PICT00hfghg10.JPG', './labelled/Foto(815).jpg', './labelled/Foto(546).jpg', './labelled/Foto(854).jpg', './labelled/05102009102.jpg', './labelled/06102009255.jpg', './labelled/Foto(730).jpg', './labelled/PICT0005.JPG', './labelled/05102009105.jpg', './labelled/Foto(848).jpg', './labelled/05102009215.jpg', './labelled/Foto(736).jpg', './labelled/05102009175.jpg', './labelled/Foto(686).jpg', './labelled/Foto(783).jpg', './labelled/Foto(687).jpg', './labelled/05102009211.jpg', './labelled/Foto(760).jpg', './labelled/Foto(536).jpg', './labelled/05102009199.jpg'], 'x1': [572, 418, 287, 426, 321, 698, 343, 461, 460, 441, 673, 518, 438, 773, 361, 464, 473, 568, 498, 338, 568, 551, 462, 481, 416, 565, 403, 445, 421, 454, 392, 549, 363], 'y1': [408, 286, 84, 340, 223, 528, 229, 329, 357, 257, 665, 665, 339, 466, 358, 364, 336, 549, 379, 297, 483, 363, 381, 313, 307, 386, 310, 308, 331, 189, 247, 328, 93], 'x2': [1037, 828, 1280, 761, 830, 2146, 757, 755, 768, 1725, 2058, 1945, 747, 2176, 713, 686, 790, 1089, 1228, 776, 2222, 1139, 775, 1203, 816, 1056, 728, 856, 760, 1326, 764, 782, 1389], 'y2': [741, 460, 1025, 493, 604, 1769, 636, 561, 496, 1441, 1436, 1585, 472, 1457, 528, 522, 502, 746, 721, 485, 1443, 807, 523, 786, 501, 758, 528, 489, 591, 890, 540, 514, 1001], 'class': ['barcode', 'barcode', 'barcode', 'barcode', 'barcode', 'barcode', 'barcode', 'barcode', 'barcode', 'barcode', 'barcode', 'barcode', 'barcode', 'barcode', 'barcode', 'barcode', 'barcode', 'barcode', 'barcode', 'barcode', 'barcode', 'barcode', 'barcode', 'barcode', 'barcode', 'barcode', 'barcode', 'barcode', 'barcode', 'barcode', 'barcode', 'barcode', 'barcode'], 'dataset': [1, 2, 1, 2, 2, 1, 2, 2, 2, 1, 1, 1, 2, 1, 2, 2, 2, 1, 1, 2, 1, 1, 2, 1, 2, 1, 2, 2, 2, 1, 2, 2, 1]}\n"
     ]
    }
   ],
   "source": [
    "print(annotations)"
   ]
  },
  {
   "cell_type": "code",
   "execution_count": 39,
   "metadata": {},
   "outputs": [],
   "source": [
    "df = pd.DataFrame.from_dict(annotations, orient='columns')"
   ]
  },
  {
   "cell_type": "code",
   "execution_count": 40,
   "metadata": {},
   "outputs": [],
   "source": [
    "df_train, df_val = train_test_split(df, test_size=0.33, random_state=seed, stratify=df['dataset'])"
   ]
  },
  {
   "cell_type": "code",
   "execution_count": 41,
   "metadata": {},
   "outputs": [],
   "source": [
    "df_train.drop('dataset', axis=1).to_csv(\"annotations_train.csv\", header=False, index=False)\n",
    "df_val.drop('dataset', axis=1).to_csv(\"annotations_val.csv\", header=False, index=False)"
   ]
  },
  {
   "cell_type": "code",
   "execution_count": 26,
   "metadata": {},
   "outputs": [
    {
     "name": "stdout",
     "output_type": "stream",
     "text": [
      "/bin/bash: retinanet-train: command not found\r\n"
     ]
    }
   ],
   "source": [
    "! retinanet-train \\\n",
    "csv ./annotations_train.csv ./classes.csv \\\n",
    "--val-annotations ./annotations_val.csv \\\n",
    "--random-transform \\\n",
    "--backbone resnet50 \\\n",
    "--imagenet-weights \\\n",
    "--compute-val-loss \\\n",
    "--image-max-side 512 \\\n",
    "--snapshot-path ./models/barcode_detector/"
   ]
  },
  {
   "cell_type": "code",
   "execution_count": 31,
   "metadata": {},
   "outputs": [
    {
     "data": {
      "text/plain": [
       "('models/pretrained_coco/resnet50_coco_best_v2.1.0.h5',\n",
       " <http.client.HTTPMessage at 0x7fb74a2fc310>)"
      ]
     },
     "execution_count": 31,
     "metadata": {},
     "output_type": "execute_result"
    }
   ],
   "source": [
    "URL_MODEL = 'https://github.com/fizyr/keras-retinanet/releases/download/0.5.1/resnet50_coco_best_v2.1.0.h5'\n",
    "PRETRAINED_MODEL = 'models/pretrained_coco/resnet50_coco_best_v2.1.0.h5'\n",
    "urllib.request.urlretrieve(URL_MODEL, PRETRAINED_MODEL)"
   ]
  },
  {
   "cell_type": "code",
   "execution_count": null,
   "metadata": {},
   "outputs": [],
   "source": []
  }
 ],
 "metadata": {
  "kernelspec": {
   "display_name": "strong_analytics",
   "language": "python",
   "name": "strong_analytics"
  },
  "language_info": {
   "codemirror_mode": {
    "name": "ipython",
    "version": 3
   },
   "file_extension": ".py",
   "mimetype": "text/x-python",
   "name": "python",
   "nbconvert_exporter": "python",
   "pygments_lexer": "ipython3",
   "version": "3.10.4"
  }
 },
 "nbformat": 4,
 "nbformat_minor": 2
}
